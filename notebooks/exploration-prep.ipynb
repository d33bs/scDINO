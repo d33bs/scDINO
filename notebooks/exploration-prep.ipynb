{
 "cells": [
  {
   "cell_type": "markdown",
   "id": "d8af06f8-5adf-43fb-a1a3-1451583c2b02",
   "metadata": {
    "tags": []
   },
   "source": [
    "# Exploration of Existing Usecases for scDINO - Preparations\n",
    "\n",
    "Preparation work for scDINO existing usecases."
   ]
  },
  {
   "cell_type": "code",
   "execution_count": 1,
   "id": "6abd193c-80c3-42e2-8fef-b89f7a911c37",
   "metadata": {},
   "outputs": [],
   "source": [
    "import pathlib\n",
    "import shutil\n",
    "\n",
    "import requests"
   ]
  },
  {
   "cell_type": "code",
   "execution_count": 2,
   "id": "19c3f4ed-1aaf-481f-bdd2-f794e5c9ad4f",
   "metadata": {
    "tags": []
   },
   "outputs": [],
   "source": [
    "# url reference for:\n",
    "# https://www.research-collection.ethz.ch/handle/20.500.11850/582208\n",
    "vit_url = (\n",
    "    \"https://www.research-collection.ethz.ch\"\n",
    "    \"/bitstream/handle/20.500.11850/582208/\"\n",
    "    \"sc-ViT_checkpoint0100_vitsmall16.pth?sequence=4&isAllowed=y\"\n",
    ")\n",
    "\n",
    "vit_filename = pathlib.Path(vit_url).name.split(\"?\")[0]\n",
    "data_dir = \"./data\"\n",
    "vit_filepath = f\"{data_dir}/{vit_filename}\""
   ]
  },
  {
   "cell_type": "code",
   "execution_count": 3,
   "id": "211ca4b0-61ec-4ba8-b3fb-494a92f43532",
   "metadata": {
    "tags": []
   },
   "outputs": [],
   "source": [
    "# prep directory\n",
    "pathlib.Path(data_dir).mkdir(exist_ok=True)"
   ]
  },
  {
   "cell_type": "code",
   "execution_count": 4,
   "id": "8a63d8c3-8b58-40b6-adfd-dd7b24311ba2",
   "metadata": {
    "tags": []
   },
   "outputs": [],
   "source": [
    "if not pathlib.Path(vit_filepath).is_file():\n",
    "    response = requests.get(vit_url, stream=True)\n",
    "\n",
    "    with open(vit_filepath, \"wb\") as out_file:\n",
    "        shutil.copyfileobj(response.raw, out_file)"
   ]
  }
 ],
 "metadata": {
  "kernelspec": {
   "display_name": "Python 3 (ipykernel)",
   "language": "python",
   "name": "python3"
  },
  "language_info": {
   "codemirror_mode": {
    "name": "ipython",
    "version": 3
   },
   "file_extension": ".py",
   "mimetype": "text/x-python",
   "name": "python",
   "nbconvert_exporter": "python",
   "pygments_lexer": "ipython3",
   "version": "3.9.12"
  }
 },
 "nbformat": 4,
 "nbformat_minor": 5
}
