{
 "cells": [
  {
   "cell_type": "markdown",
   "id": "d8af06f8-5adf-43fb-a1a3-1451583c2b02",
   "metadata": {
    "tags": []
   },
   "source": [
    "# Exploration of Existing Usecases for scDINO - Data Preparations\n",
    "\n",
    "Preparation work for scDINO existing usecases."
   ]
  },
  {
   "cell_type": "code",
   "execution_count": 1,
   "id": "6abd193c-80c3-42e2-8fef-b89f7a911c37",
   "metadata": {},
   "outputs": [],
   "source": [
    "import pathlib\n",
    "import shutil\n",
    "import zipfile\n",
    "\n",
    "import requests"
   ]
  },
  {
   "cell_type": "code",
   "execution_count": 2,
   "id": "452c4d42-be87-40cb-9586-365fdbeaba64",
   "metadata": {},
   "outputs": [],
   "source": [
    "# data directory work\n",
    "data_dir = \"./data\"\n",
    "\n",
    "# build actual directory if it doesn't exist\n",
    "pathlib.Path(data_dir).mkdir(exist_ok=True)"
   ]
  },
  {
   "cell_type": "code",
   "execution_count": 3,
   "id": "19c3f4ed-1aaf-481f-bdd2-f794e5c9ad4f",
   "metadata": {
    "tags": []
   },
   "outputs": [],
   "source": [
    "# url reference for:\n",
    "# pre-trained vit for single immune cells\n",
    "# https://www.research-collection.ethz.ch/handle/20.500.11850/582208\n",
    "vit_url = (\n",
    "    \"https://www.research-collection.ethz.ch\"\n",
    "    \"/bitstream/handle/20.500.11850/582208/\"\n",
    "    \"sc-ViT_checkpoint0100_vitsmall16.pth?sequence=4&isAllowed=y\"\n",
    ")\n",
    "# url reference for:\n",
    "# imageset for example work\n",
    "# https://www.research-collection.ethz.ch/handle/20.500.11850/343106\n",
    "imageset_url = (\n",
    "    \"https://www.research-collection.ethz.ch\"\n",
    "    \"/bitstream/handle/20.500.11850/343106/\"\n",
    "    \"DeepPhenotype_PBMC_ImageSet_YSeverin.zip?sequence=5&isAllowed=y\"\n",
    ")\n",
    "\n",
    "# build local filepaths\n",
    "vit_filename = pathlib.Path(vit_url).name.split(\"?\")[0]\n",
    "imageset_filename = pathlib.Path(imageset_url).name.split(\"?\")[0]\n",
    "\n",
    "vit_filepath = f\"{data_dir}/{vit_filename}\"\n",
    "imageset_filepath = f\"{data_dir}/{imageset_filename}\"\n",
    "imageset_unzipped_path = f\"{data_dir}/{imageset_filename.rstrip('.zip')}\""
   ]
  },
  {
   "cell_type": "code",
   "execution_count": 4,
   "id": "8a63d8c3-8b58-40b6-adfd-dd7b24311ba2",
   "metadata": {
    "tags": []
   },
   "outputs": [],
   "source": [
    "# download vit\n",
    "if not pathlib.Path(vit_filepath).is_file():\n",
    "    response = requests.get(vit_url, stream=True)\n",
    "\n",
    "    with open(vit_filepath, \"wb\") as out_file:\n",
    "        shutil.copyfileobj(response.raw, out_file)\n",
    "\n",
    "# download imageset\n",
    "if not pathlib.Path(imageset_filepath).is_file():\n",
    "    response = requests.get(imageset_url, stream=True)\n",
    "\n",
    "    with open(imageset_filepath, \"wb\") as out_file:\n",
    "        shutil.copyfileobj(response.raw, out_file)"
   ]
  },
  {
   "cell_type": "code",
   "execution_count": 5,
   "id": "935dd265-4267-4879-a380-b98ebddcd481",
   "metadata": {
    "tags": []
   },
   "outputs": [],
   "source": [
    "# unzip the imageset\n",
    "if not pathlib.Path(imageset_unzipped_path).is_dir():\n",
    "    with zipfile.ZipFile(imageset_filepath, \"r\") as zipped:\n",
    "        zipped.extractall(data_dir)"
   ]
  }
 ],
 "metadata": {
  "kernelspec": {
   "display_name": "Python 3 (ipykernel)",
   "language": "python",
   "name": "python3"
  },
  "language_info": {
   "codemirror_mode": {
    "name": "ipython",
    "version": 3
   },
   "file_extension": ".py",
   "mimetype": "text/x-python",
   "name": "python",
   "nbconvert_exporter": "python",
   "pygments_lexer": "ipython3",
   "version": "3.9.12"
  }
 },
 "nbformat": 4,
 "nbformat_minor": 5
}
