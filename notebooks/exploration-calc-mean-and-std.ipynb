{
 "cells": [
  {
   "cell_type": "markdown",
   "id": "d8af06f8-5adf-43fb-a1a3-1451583c2b02",
   "metadata": {
    "tags": []
   },
   "source": [
    "# Exploration of Existing Usecases for scDINO - Calculate Dataset Mean and STD\n",
    "\n",
    "Preparation work for scDINO existing usecases."
   ]
  },
  {
   "cell_type": "code",
   "execution_count": null,
   "id": "6abd193c-80c3-42e2-8fef-b89f7a911c37",
   "metadata": {},
   "outputs": [],
   "source": [
    "import json\n",
    "import pathlib\n",
    "\n",
    "import numpy as np\n",
    "import tifffile\n",
    "import torch\n",
    "import torchvision.transforms as transforms\n",
    "from PIL import Image\n",
    "from torch.utils.data import DataLoader\n",
    "from torchvision.datasets import ImageFolder"
   ]
  },
  {
   "cell_type": "code",
   "execution_count": null,
   "id": "19c3f4ed-1aaf-481f-bdd2-f794e5c9ad4f",
   "metadata": {
    "tags": []
   },
   "outputs": [],
   "source": [
    "# build local filepaths\n",
    "data_dir = \"./data\"\n",
    "imageset_unzipped_path = f\"{data_dir}/DeepPhenotype_PBMC_ImageSet_YSeverin\"\n",
    "destination_mean_and_std_file = (\n",
    "    f\"{data_dir}/DeepPhenotype_PBMC_ImageSet_YSeverin.Test.mean_and_std.json\"\n",
    ")"
   ]
  },
  {
   "cell_type": "code",
   "execution_count": null,
   "id": "0fe691a3-edb9-461f-9bac-b1c14d31867b",
   "metadata": {
    "tags": []
   },
   "outputs": [],
   "source": [
    "!python -m tifffile ./data/DeepPhenotype_PBMC_ImageSet_YSeverin/Test/Donor01/Control/B/B-0001-Test-Ctrl-E01-D01.tiff"
   ]
  },
  {
   "cell_type": "code",
   "execution_count": null,
   "id": "bc907733-d168-41ac-8122-3f99d037f932",
   "metadata": {
    "tags": []
   },
   "outputs": [],
   "source": [
    "# custom class to get around pillow limitations with reading data files\n",
    "class TIFFImageFolder(ImageFolder):\n",
    "    def __init__(self, root, transform=None, target_transform=None):\n",
    "        super(TIFFImageFolder, self).__init__(root, transform, target_transform)\n",
    "\n",
    "    def __getitem__(self, index):\n",
    "        # Override the __getitem__ method to load TIFF images using tifffile\n",
    "        path, target = self.samples[index]\n",
    "        image = tifffile.imread(path)\n",
    "\n",
    "        # Convert numpy array to PIL Image\n",
    "\n",
    "        channels = {\n",
    "            f\"channel{num}\": Image.fromarray(image[:, :, num]) if self.transform is None\n",
    "            # Apply any necessary preprocessing using self.transform, if provided\n",
    "            else self.transform(Image.fromarray(image[:, :, num]))\n",
    "            for num in range(5)\n",
    "        }\n",
    "\n",
    "        return channels"
   ]
  },
  {
   "cell_type": "code",
   "execution_count": null,
   "id": "a02ce175-fd8c-4251-b873-9e17ea8b1ce8",
   "metadata": {},
   "outputs": [],
   "source": [
    "# build imagefolder for parsing the images\n",
    "testdata = TIFFImageFolder(\n",
    "    root=f\"{imageset_unzipped_path}/Test\",\n",
    "    transform=transforms.ToTensor(),\n",
    ")\n",
    "testdata"
   ]
  },
  {
   "cell_type": "code",
   "execution_count": null,
   "id": "34dc2006-8f00-424c-a110-b52356f78398",
   "metadata": {
    "tags": []
   },
   "outputs": [],
   "source": [
    "# load data given the imagefolder\n",
    "loader = DataLoader(testdata, batch_size=1)\n",
    "\n",
    "# calculate the mean and std from loader\n",
    "data = next(iter(loader))\n",
    "mean_and_std_dict = {\n",
    "    \"mean\": tuple(\n",
    "        [np.mean(data[f\"channel{num}\"].view(-1).numpy()) for num in range(5)]\n",
    "    ),\n",
    "    \"std\": tuple([np.std(data[f\"channel{num}\"].view(-1).numpy()) for num in range(5)]),\n",
    "}\n",
    "mean_and_std_dict"
   ]
  },
  {
   "cell_type": "code",
   "execution_count": null,
   "id": "70072347-facf-4d8a-af29-0eb6b9653c50",
   "metadata": {
    "tags": []
   },
   "outputs": [],
   "source": [
    "# write data to json file\n",
    "with open(destination_mean_and_std_file, \"w\") as file:\n",
    "    file.write(json.dumps(mean_and_std_dict))"
   ]
  }
 ],
 "metadata": {
  "jupytext": {
   "formats": "ipynb,auto:light"
  },
  "kernelspec": {
   "display_name": "Python 3 (ipykernel)",
   "language": "python",
   "name": "python3"
  },
  "language_info": {
   "codemirror_mode": {
    "name": "ipython",
    "version": 3
   },
   "file_extension": ".py",
   "mimetype": "text/x-python",
   "name": "python",
   "nbconvert_exporter": "python",
   "pygments_lexer": "ipython3",
   "version": "3.9.12"
  }
 },
 "nbformat": 4,
 "nbformat_minor": 5
}
